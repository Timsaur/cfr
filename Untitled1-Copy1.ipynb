{
 "cells": [
  {
   "cell_type": "code",
   "execution_count": 4,
   "metadata": {},
   "outputs": [],
   "source": [
    "import random\n",
    "random.seed(1)"
   ]
  },
  {
   "cell_type": "code",
   "execution_count": 187,
   "metadata": {},
   "outputs": [],
   "source": [
    "class RockPaperScissors():\n",
    "    def __init__(self):\n",
    "        self.NUM_ACTIONS = 3\n",
    "        self.regretSum = [0] * NUM_ACTIONS\n",
    "        self.strategy = [0] * NUM_ACTIONS\n",
    "        self.strategySum = [0] * NUM_ACTIONS\n",
    "\n",
    "    def getStrategy(self):\n",
    "        normalizingSum = 0\n",
    "        for a in range(NUM_ACTIONS):\n",
    "            if self.regretSum[a] > 0:\n",
    "                self.strategy[a] = self.regretSum[a]\n",
    "            else: \n",
    "                self.strategy[a] = 0\n",
    "            normalizingSum += self.strategy[a]\n",
    "        for a in range(self.NUM_ACTIONS):\n",
    "            if normalizingSum > 0:\n",
    "                self.strategy[a] /= normalizingSum\n",
    "            else:\n",
    "                self.strategy[a] = 1/self.NUM_ACTIONS\n",
    "            self.strategySum[a] += self.strategy[a]\n",
    "        return self.strategy\n",
    "    \n",
    "    def getAction(self, strategy):\n",
    "        a = 0; cumulativeProb = 0\n",
    "        r = random.random()\n",
    "        while a < self.NUM_ACTIONS - 1:\n",
    "            cumulativeProb += strategy[a]\n",
    "            if r < cumulativeProb:\n",
    "                break\n",
    "            a += 1\n",
    "        return a\n",
    "    \n",
    "    def train(self, myAction, otherAction):\n",
    "        actionUtility = [0] * self.NUM_ACTIONS\n",
    "        actionUtility[otherAction] = 0\n",
    "        if otherAction == 0:\n",
    "            actionUtility[1] = 1\n",
    "            actionUtility[2] = -1\n",
    "        elif otherAction == 1:\n",
    "            actionUtility[0] = -1\n",
    "            actionUtility[2] = 1\n",
    "        elif otherAction == 2:\n",
    "            actionUtility[0] = 1\n",
    "            actionUtility[1] = -4\n",
    "        for a in range(self.NUM_ACTIONS):\n",
    "            self.regretSum[a] += actionUtility[a] - actionUtility[myAction]\n",
    "\n",
    "    def getAverageStrategy(self):\n",
    "        avgStrategy = [0] * self.NUM_ACTIONS\n",
    "        normalizingSum = 0\n",
    "        for a in range(self.NUM_ACTIONS):\n",
    "            normalizingSum += self.strategySum[a]\n",
    "        for a in range(self.NUM_ACTIONS):\n",
    "            if normalizingSum > 0:\n",
    "                avgStrategy[a] = self.strategySum[a]/normalizingSum\n",
    "            else:\n",
    "                avgStrategy[a] = 1/self.NUM_ACTIONS\n",
    "        return avgStrategy"
   ]
  },
  {
   "cell_type": "code",
   "execution_count": 188,
   "metadata": {},
   "outputs": [],
   "source": [
    "a = RockPaperScissors()\n",
    "b = RockPaperScissors()\n",
    "for i in range(100000):\n",
    "    aAction = a.getAction(a.getStrategy())\n",
    "    bAction = b.getAction(b.getStrategy())\n",
    "    a.train(aAction, bAction)\n",
    "    b.train(bAction, aAction)"
   ]
  },
  {
   "cell_type": "code",
   "execution_count": 189,
   "metadata": {},
   "outputs": [
    {
     "name": "stdout",
     "output_type": "stream",
     "text": [
      "[0.5305615608411874, 0.3057639025097747, 0.16367453664903772]\n",
      "[0.4902458741151571, 0.3172196889684264, 0.19253443691641658]\n"
     ]
    }
   ],
   "source": [
    "print(a.getAverageStrategy())\n",
    "print(b.getAverageStrategy())"
   ]
  },
  {
   "cell_type": "code",
   "execution_count": 182,
   "metadata": {},
   "outputs": [],
   "source": [
    "c = RockPaperScissors()\n",
    "d = RockPaperScissors()\n",
    "for i in range(100000):\n",
    "    cAction = c.getAction(c.getStrategy())\n",
    "    dAction = d.getAction([0.3, 0.3, 0.4])\n",
    "    c.train(cAction, dAction)"
   ]
  },
  {
   "cell_type": "code",
   "execution_count": 183,
   "metadata": {},
   "outputs": [
    {
     "name": "stdout",
     "output_type": "stream",
     "text": [
      "[0.999565036217051, 1.4555555555555554e-05, 0.0004204082273935217]\n"
     ]
    }
   ],
   "source": [
    "print(c.getAverageStrategy())"
   ]
  },
  {
   "cell_type": "code",
   "execution_count": 30,
   "metadata": {},
   "outputs": [
    {
     "data": {
      "text/plain": [
       "[0.0940013039545125, 0.0440209471158669, 0.8619777489296206]"
      ]
     },
     "execution_count": 30,
     "metadata": {},
     "output_type": "execute_result"
    }
   ],
   "source": [
    "getAverageStrategy()"
   ]
  },
  {
   "cell_type": "code",
   "execution_count": 55,
   "metadata": {},
   "outputs": [],
   "source": [
    "actionUtility = [0] * NUM_ACTIONS"
   ]
  },
  {
   "cell_type": "code",
   "execution_count": null,
   "metadata": {},
   "outputs": [],
   "source": [
    "myStrategy = getStrategy()\n",
    "myAction = getAction(myStrategy)\n",
    "otherAction = getAction(oppStrategy)\n",
    "\n",
    "actionUtility[otherAction] = 0\n",
    "if otherAction == 0:\n",
    "    actionUtility[1] = 1\n",
    "    actionUtility[2] = -1\n",
    "elif otherAction == 1:\n",
    "    actionUtility[0] = -1\n",
    "    actionUtility[2] = 1\n",
    "elif otherAction == 2:\n",
    "    actionUtility[0] = 1\n",
    "    actionUtility[1] = -2\n",
    "\n",
    "for a in range(NUM_ACTIONS):\n",
    "    regretSum[a] += actionUtility[a] - actionUtility[myAction]"
   ]
  }
 ],
 "metadata": {
  "kernelspec": {
   "display_name": "Python 3",
   "language": "python",
   "name": "python3"
  },
  "language_info": {
   "codemirror_mode": {
    "name": "ipython",
    "version": 3
   },
   "file_extension": ".py",
   "mimetype": "text/x-python",
   "name": "python",
   "nbconvert_exporter": "python",
   "pygments_lexer": "ipython3",
   "version": "3.6.4"
  }
 },
 "nbformat": 4,
 "nbformat_minor": 2
}
