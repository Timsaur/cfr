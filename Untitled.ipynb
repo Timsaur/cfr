{
 "cells": [
  {
   "cell_type": "code",
   "execution_count": 31,
   "metadata": {},
   "outputs": [],
   "source": [
    "import random\n",
    "random.seed(1)\n",
    "rule = {'rock':'scissors', 'paper':'rock', 'scissors':'paper'}"
   ]
  },
  {
   "cell_type": "code",
   "execution_count": 46,
   "metadata": {},
   "outputs": [],
   "source": [
    "def shoot(regret):\n",
    "    # pick an action based off of the distribution of positive regret\n",
    "    positive = {'rock':0, 'paper':0, 'scissors':0}\n",
    "    for action, value in regret.items():\n",
    "        if value > 0:\n",
    "            positive[action] = value`\n",
    "            \n",
    "    rock = positive['rock']/sum(positive.values())\n",
    "    paper = (positive['rock']+positive['paper'])/sum(positive.values())\n",
    "    choice = random.random()\n",
    "    if choice <= rock:\n",
    "        return \"rock\"\n",
    "    elif choice <= paper:\n",
    "        return \"paper\"\n",
    "    return \"scissors\""
   ]
  },
  {
   "cell_type": "code",
   "execution_count": 47,
   "metadata": {},
   "outputs": [],
   "source": [
    "def update(regret, myAction, otherAction):\n",
    "    if rule[myAction] == otherAction: # I win the game\n",
    "        # update the regret of tying the game\n",
    "        regret[otherAction] = regret[otherAction] - 1\n",
    "        # update the regret of losing the game\n",
    "        regret[rule[otherAction]] = regret[rule[otherAction]] - 2\n",
    "    elif myAction == rule[otherAction]: # I lose the game\n",
    "        # update the regret of tying the game\n",
    "        regret[otherAction] = regret[otherAction] + 1\n",
    "        # update the regret of winning the game\n",
    "        regret[rule[myAction]] = regret[rule[myAction]] + 2\n",
    "    else: # We tie\n",
    "        # update the regret of winning the game\n",
    "        regret[rule[rule[myAction]]] = regret[rule[rule[myAction]]] + 1\n",
    "        # update the regret of losing the game\n",
    "        regret[rule[myAction]] = regret[rule[myAction]] - 1"
   ]
  },
  {
   "cell_type": "code",
   "execution_count": 53,
   "metadata": {},
   "outputs": [],
   "source": [
    "regret1 = {'rock':5, 'paper':5, 'scissors':5}\n",
    "regret2 = {'rock':5, 'paper':5, 'scissors':5}"
   ]
  },
  {
   "cell_type": "code",
   "execution_count": 72,
   "metadata": {},
   "outputs": [
    {
     "name": "stdout",
     "output_type": "stream",
     "text": [
      "paper paper\n",
      "{'rock': -38, 'paper': 26, 'scissors': 15} {'rock': -25, 'paper': 24, 'scissors': 28} \n",
      "\n",
      "scissors scissors\n",
      "{'rock': -37, 'paper': 25, 'scissors': 15} {'rock': -24, 'paper': 23, 'scissors': 28} \n",
      "\n",
      "paper paper\n",
      "{'rock': -38, 'paper': 25, 'scissors': 16} {'rock': -25, 'paper': 23, 'scissors': 29} \n",
      "\n",
      "scissors paper\n",
      "{'rock': -40, 'paper': 24, 'scissors': 16} {'rock': -23, 'paper': 23, 'scissors': 30} \n",
      "\n",
      "scissors scissors\n",
      "{'rock': -39, 'paper': 23, 'scissors': 16} {'rock': -22, 'paper': 22, 'scissors': 30} \n",
      "\n",
      "paper scissors\n",
      "{'rock': -37, 'paper': 23, 'scissors': 17} {'rock': -24, 'paper': 21, 'scissors': 30} \n",
      "\n",
      "paper paper\n",
      "{'rock': -38, 'paper': 23, 'scissors': 18} {'rock': -25, 'paper': 21, 'scissors': 31} \n",
      "\n",
      "paper paper\n",
      "{'rock': -39, 'paper': 23, 'scissors': 19} {'rock': -26, 'paper': 21, 'scissors': 32} \n",
      "\n",
      "scissors scissors\n",
      "{'rock': -38, 'paper': 22, 'scissors': 19} {'rock': -25, 'paper': 20, 'scissors': 32} \n",
      "\n",
      "scissors scissors\n",
      "{'rock': -37, 'paper': 21, 'scissors': 19} {'rock': -24, 'paper': 19, 'scissors': 32} \n",
      "\n",
      "paper paper\n",
      "{'rock': -38, 'paper': 21, 'scissors': 20} {'rock': -25, 'paper': 19, 'scissors': 33} \n",
      "\n",
      "scissors paper\n",
      "{'rock': -40, 'paper': 20, 'scissors': 20} {'rock': -23, 'paper': 19, 'scissors': 34} \n",
      "\n",
      "scissors scissors\n",
      "{'rock': -39, 'paper': 19, 'scissors': 20} {'rock': -22, 'paper': 18, 'scissors': 34} \n",
      "\n",
      "paper paper\n",
      "{'rock': -40, 'paper': 19, 'scissors': 21} {'rock': -23, 'paper': 18, 'scissors': 35} \n",
      "\n",
      "paper scissors\n",
      "{'rock': -38, 'paper': 19, 'scissors': 22} {'rock': -25, 'paper': 17, 'scissors': 35} \n",
      "\n",
      "paper paper\n",
      "{'rock': -39, 'paper': 19, 'scissors': 23} {'rock': -26, 'paper': 17, 'scissors': 36} \n",
      "\n",
      "paper paper\n",
      "{'rock': -40, 'paper': 19, 'scissors': 24} {'rock': -27, 'paper': 17, 'scissors': 37} \n",
      "\n",
      "paper scissors\n",
      "{'rock': -38, 'paper': 19, 'scissors': 25} {'rock': -29, 'paper': 16, 'scissors': 37} \n",
      "\n",
      "scissors scissors\n",
      "{'rock': -37, 'paper': 18, 'scissors': 25} {'rock': -28, 'paper': 15, 'scissors': 37} \n",
      "\n",
      "scissors scissors\n",
      "{'rock': -36, 'paper': 17, 'scissors': 25} {'rock': -27, 'paper': 14, 'scissors': 37} \n",
      "\n",
      "paper scissors\n",
      "{'rock': -34, 'paper': 17, 'scissors': 26} {'rock': -29, 'paper': 13, 'scissors': 37} \n",
      "\n",
      "paper scissors\n",
      "{'rock': -32, 'paper': 17, 'scissors': 27} {'rock': -31, 'paper': 12, 'scissors': 37} \n",
      "\n",
      "scissors scissors\n",
      "{'rock': -31, 'paper': 16, 'scissors': 27} {'rock': -30, 'paper': 11, 'scissors': 37} \n",
      "\n",
      "scissors paper\n",
      "{'rock': -33, 'paper': 15, 'scissors': 27} {'rock': -28, 'paper': 11, 'scissors': 38} \n",
      "\n",
      "paper scissors\n",
      "{'rock': -31, 'paper': 15, 'scissors': 28} {'rock': -30, 'paper': 10, 'scissors': 38} \n",
      "\n",
      "scissors scissors\n",
      "{'rock': -30, 'paper': 14, 'scissors': 28} {'rock': -29, 'paper': 9, 'scissors': 38} \n",
      "\n",
      "scissors scissors\n",
      "{'rock': -29, 'paper': 13, 'scissors': 28} {'rock': -28, 'paper': 8, 'scissors': 38} \n",
      "\n",
      "scissors scissors\n",
      "{'rock': -28, 'paper': 12, 'scissors': 28} {'rock': -27, 'paper': 7, 'scissors': 38} \n",
      "\n",
      "scissors scissors\n",
      "{'rock': -27, 'paper': 11, 'scissors': 28} {'rock': -26, 'paper': 6, 'scissors': 38} \n",
      "\n",
      "scissors scissors\n",
      "{'rock': -26, 'paper': 10, 'scissors': 28} {'rock': -25, 'paper': 5, 'scissors': 38} \n",
      "\n",
      "paper scissors\n",
      "{'rock': -24, 'paper': 10, 'scissors': 29} {'rock': -27, 'paper': 4, 'scissors': 38} \n",
      "\n",
      "paper scissors\n",
      "{'rock': -22, 'paper': 10, 'scissors': 30} {'rock': -29, 'paper': 3, 'scissors': 38} \n",
      "\n",
      "scissors scissors\n",
      "{'rock': -21, 'paper': 9, 'scissors': 30} {'rock': -28, 'paper': 2, 'scissors': 38} \n",
      "\n",
      "paper scissors\n",
      "{'rock': -19, 'paper': 9, 'scissors': 31} {'rock': -30, 'paper': 1, 'scissors': 38} \n",
      "\n",
      "scissors scissors\n",
      "{'rock': -18, 'paper': 8, 'scissors': 31} {'rock': -29, 'paper': 0, 'scissors': 38} \n",
      "\n",
      "paper scissors\n",
      "{'rock': -16, 'paper': 8, 'scissors': 32} {'rock': -31, 'paper': -1, 'scissors': 38} \n",
      "\n",
      "scissors scissors\n",
      "{'rock': -15, 'paper': 7, 'scissors': 32} {'rock': -30, 'paper': -2, 'scissors': 38} \n",
      "\n",
      "paper scissors\n",
      "{'rock': -13, 'paper': 7, 'scissors': 33} {'rock': -32, 'paper': -3, 'scissors': 38} \n",
      "\n",
      "scissors scissors\n",
      "{'rock': -12, 'paper': 6, 'scissors': 33} {'rock': -31, 'paper': -4, 'scissors': 38} \n",
      "\n",
      "scissors scissors\n",
      "{'rock': -11, 'paper': 5, 'scissors': 33} {'rock': -30, 'paper': -5, 'scissors': 38} \n",
      "\n"
     ]
    }
   ],
   "source": [
    "for _ in range(40):\n",
    "    action1 = shoot(regret1)\n",
    "    action2 = shoot(regret2)\n",
    "    print(action1, action2)\n",
    "    update(regret1, action1, action2)\n",
    "    update(regret2, action2, action1)\n",
    "    print(regret1, regret2, '\\n')\n",
    "    "
   ]
  },
  {
   "cell_type": "code",
   "execution_count": 28,
   "metadata": {},
   "outputs": [
    {
     "data": {
      "text/plain": [
       "3"
      ]
     },
     "execution_count": 28,
     "metadata": {},
     "output_type": "execute_result"
    }
   ],
   "source": [
    "sum(regret1.values())"
   ]
  },
  {
   "cell_type": "code",
   "execution_count": 34,
   "metadata": {},
   "outputs": [
    {
     "ename": "AttributeError",
     "evalue": "'str' object has no attribute 'equals'",
     "output_type": "error",
     "traceback": [
      "\u001b[0;31m---------------------------------------------------------------------------\u001b[0m",
      "\u001b[0;31mAttributeError\u001b[0m                            Traceback (most recent call last)",
      "\u001b[0;32m<ipython-input-34-e0c8ddbfb956>\u001b[0m in \u001b[0;36m<module>\u001b[0;34m()\u001b[0m\n\u001b[0;32m----> 1\u001b[0;31m \u001b[0;34m'hi'\u001b[0m\u001b[0;34m.\u001b[0m\u001b[0mequals\u001b[0m\u001b[0;34m(\u001b[0m\u001b[0;34m'hi'\u001b[0m\u001b[0;34m)\u001b[0m\u001b[0;34m\u001b[0m\u001b[0m\n\u001b[0m",
      "\u001b[0;31mAttributeError\u001b[0m: 'str' object has no attribute 'equals'"
     ]
    }
   ],
   "source": []
  },
  {
   "cell_type": "code",
   "execution_count": null,
   "metadata": {},
   "outputs": [],
   "source": []
  }
 ],
 "metadata": {
  "kernelspec": {
   "display_name": "Python 3",
   "language": "python",
   "name": "python3"
  },
  "language_info": {
   "codemirror_mode": {
    "name": "ipython",
    "version": 3
   },
   "file_extension": ".py",
   "mimetype": "text/x-python",
   "name": "python",
   "nbconvert_exporter": "python",
   "pygments_lexer": "ipython3",
   "version": "3.6.4"
  }
 },
 "nbformat": 4,
 "nbformat_minor": 2
}
