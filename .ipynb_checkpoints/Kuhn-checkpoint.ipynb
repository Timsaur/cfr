{
 "cells": [
  {
   "cell_type": "code",
   "execution_count": 37,
   "metadata": {},
   "outputs": [],
   "source": [
    "import random\n",
    "random.seed(1)"
   ]
  },
  {
   "cell_type": "code",
   "execution_count": 38,
   "metadata": {},
   "outputs": [],
   "source": [
    "PASS = 0; BET = 1; NUM_ACTIONS = 2\n"
   ]
  },
  {
   "cell_type": "code",
   "execution_count": 81,
   "metadata": {},
   "outputs": [],
   "source": [
    "class Node():\n",
    "    def __init__(self):\n",
    "        self.infoSet = ''\n",
    "        self.regretSum = [0] * NUM_ACTIONS\n",
    "        self.strategy = [0] * NUM_ACTIONS\n",
    "        self.strategySum = [0] * NUM_ACTIONS\n",
    "        \n",
    "    def getStrategy(self, rweight):\n",
    "        normalizingSum = 0\n",
    "        for a in range(NUM_ACTIONS):\n",
    "            if self.regretSum[a] > 0:\n",
    "                self.strategy[a] = self.regretSum[a]\n",
    "            else:\n",
    "                self.strategy[a] = 0\n",
    "            normalizingSum += self.strategy[a]\n",
    "        for a in range(NUM_ACTIONS):\n",
    "            if normalizingSum > 0:\n",
    "                self.strategy[a] /= normalizingSum\n",
    "            else:\n",
    "                self.strategy[a] = 1/NUM_ACTIONS\n",
    "            self.strategySum[a] += rweight * self.strategy[a]\n",
    "        return self.strategy\n",
    "    \n",
    "    def getAverageStrategy(self):\n",
    "        averageStrat = [0] * NUM_ACTIONS\n",
    "        normalizingSum = 0\n",
    "        for a in range(NUM_ACTIONS):\n",
    "            normalizingSum += self.strategySum[a]\n",
    "        for a in range(NUM_ACTIONS):\n",
    "            if normalizingSum > 0:\n",
    "                averageStrat[a] = self.strategySum[a] / normalizingSum\n",
    "            else:\n",
    "                averageStrat[a] = 1/NUM_ACTIONS\n",
    "        return averageStrat\n",
    "    \n",
    "    \n",
    "    def __str__(self):\n",
    "        return self.infoSet + str(self.getAverageStrategy())\n",
    "    \n",
    "    \n",
    "class KuhnTrainer():\n",
    "    \n",
    "    \n",
    "    def __init__(self):\n",
    "        self.nodeMap = dict()\n",
    "    \n",
    "    def train(self, iters):\n",
    "        cards = [1,2,3]\n",
    "        utility = 0\n",
    "        for i in range(iters):\n",
    "            for j in reversed(range(1, len(cards))):\n",
    "                rand = random.randrange(0, j+1)\n",
    "                cards[j], cards[rand] = cards[rand], cards[j]\n",
    "            utility += self.cfr(cards, \"\", 1, 1)\n",
    "        print(\"Average game value: \" + str(utility / iters))\n",
    "        for nodeval in self.nodeMap.values():\n",
    "            print(nodeval)\n",
    "            \n",
    "    def cfr(self, cards, history, p0, p1):\n",
    "        plays = len(history)\n",
    "        player = plays % 2\n",
    "        opponent = 1 - player\n",
    "        if plays > 1:\n",
    "            terminalP = history[plays-1] == 'p'\n",
    "            doubleBet = history[plays-2:plays] == 'bb'\n",
    "            isHigher = cards[player] > cards[opponent]\n",
    "            if terminalP:\n",
    "                if history == 'pp':\n",
    "                    if isHigher:\n",
    "                        return 1\n",
    "                    else:\n",
    "                        return -1\n",
    "                else:\n",
    "                    return 1\n",
    "            elif doubleBet:\n",
    "                if isHigher:\n",
    "                    return 2\n",
    "                else:\n",
    "                    return -2\n",
    "        infoSet = str(cards[player]) + history\n",
    "        if infoSet not in self.nodeMap:\n",
    "            node = Node()\n",
    "            node.infoSet = infoSet\n",
    "            self.nodeMap[infoSet] = node\n",
    "        else:\n",
    "            node = self.nodeMap[infoSet]\n",
    "        if player == 0:\n",
    "            strategy = node.getStrategy(p0)\n",
    "        else:\n",
    "            strategy = node.getStrategy(p1)\n",
    "        utility = [0] * NUM_ACTIONS\n",
    "        nodeUtil = 0\n",
    "        for a in range(NUM_ACTIONS):\n",
    "            if a == 0:\n",
    "                nextHist = history + 'p'\n",
    "            else:\n",
    "                nextHist = history + 'b'\n",
    "            if player == 0:\n",
    "                utility[a] = -self.cfr(cards, nextHist, p0 * strategy[a], p1)\n",
    "            else:\n",
    "                utility[a] = -self.cfr(cards, nextHist, p0, p1 * strategy[a])\n",
    "            nodeUtil += strategy[a] * utility[a]\n",
    "        for a in range(NUM_ACTIONS):\n",
    "            regret = utility[a] - nodeUtil\n",
    "            if player == 0:\n",
    "                node.regretSum[a] += p1 * regret\n",
    "            else:\n",
    "                node.regretSum[a] += p0 * regret\n",
    "        return nodeUtil\n",
    "            \n",
    "    \n",
    "    "
   ]
  },
  {
   "cell_type": "code",
   "execution_count": 82,
   "metadata": {},
   "outputs": [
    {
     "name": "stdout",
     "output_type": "stream",
     "text": [
      "Average game value: -0.04251207286041456\n",
      "1[0.709276379186929, 0.29072362081307107]\n",
      "2p[0.9997873388252149, 0.0002126611747851003]\n",
      "1pb[0.9999893374501657, 1.0662549834323998e-05]\n",
      "2b[0.6589651735325275, 0.34103482646747246]\n",
      "2[0.999838581931507, 0.00016141806849291485]\n",
      "1p[0.6614967609189046, 0.33850323908109525]\n",
      "2pb[0.38085189467941355, 0.6191481053205864]\n",
      "1b[0.9999851539535022, 1.4846046497817632e-05]\n",
      "3[0.12475552623898861, 0.8752444737610114]\n",
      "3pb[5.9366589998446434e-05, 0.9999406334100015]\n",
      "3p[0.00012188804582990523, 0.9998781119541701]\n",
      "3b[1.5236005728738154e-05, 0.9999847639942713]\n"
     ]
    }
   ],
   "source": [
    "a = KuhnTrainer().train(100000)"
   ]
  },
  {
   "cell_type": "code",
   "execution_count": 83,
   "metadata": {},
   "outputs": [
    {
     "name": "stdout",
     "output_type": "stream",
     "text": [
      "None\n"
     ]
    }
   ],
   "source": [
    "print(a)"
   ]
  },
  {
   "cell_type": "code",
   "execution_count": null,
   "metadata": {},
   "outputs": [],
   "source": []
  }
 ],
 "metadata": {
  "kernelspec": {
   "display_name": "Python 3",
   "language": "python",
   "name": "python3"
  },
  "language_info": {
   "codemirror_mode": {
    "name": "ipython",
    "version": 3
   },
   "file_extension": ".py",
   "mimetype": "text/x-python",
   "name": "python",
   "nbconvert_exporter": "python",
   "pygments_lexer": "ipython3",
   "version": "3.6.4"
  }
 },
 "nbformat": 4,
 "nbformat_minor": 2
}
