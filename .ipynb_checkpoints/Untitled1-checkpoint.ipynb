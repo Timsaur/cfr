{
 "cells": [
  {
   "cell_type": "code",
   "execution_count": 29,
   "metadata": {},
   "outputs": [],
   "source": [
    "import random\n",
    "random.seed(1)"
   ]
  },
  {
   "cell_type": "code",
   "execution_count": 51,
   "metadata": {},
   "outputs": [],
   "source": [
    "ROCK = 0; PAPER = 1; SCISSORS = 2\n",
    "NUM_ACTIONS = 3\n",
    "regretSum = [0] * NUM_ACTIONS\n",
    "strategy = [0] * NUM_ACTIONS\n",
    "strategySum = [0] * NUM_ACTIONS\n",
    "oppStrategy = [0.3, 0.4, 0.3]"
   ]
  },
  {
   "cell_type": "code",
   "execution_count": 39,
   "metadata": {},
   "outputs": [],
   "source": [
    "def getStrategy():\n",
    "    normalizingSum = 0\n",
    "    for a in range(NUM_ACTIONS):\n",
    "        if regretSum[a] > 0:\n",
    "            strategy[a] = regretSum[a]\n",
    "        else: \n",
    "            strategy[a] = 0\n",
    "        normalizingSum += strategy[a]\n",
    "    for a in range(NUM_ACTIONS):\n",
    "        if normalizingSum > 0:\n",
    "            strategy[a] /= normalizingSum\n",
    "        else:\n",
    "            strategy[a] = 1/NUM_ACTIONS\n",
    "        strategySum[a] += strategy[a]\n",
    "    return strategy"
   ]
  },
  {
   "cell_type": "code",
   "execution_count": 40,
   "metadata": {},
   "outputs": [],
   "source": [
    "def getAction(strategy):\n",
    "    a = 0; cumulativeProb = 0\n",
    "    r = random.random()\n",
    "    while a < NUM_ACTIONS - 1:\n",
    "        cumulativeProb += strategy[a]\n",
    "        if r < cumulativeProb:\n",
    "            break\n",
    "        a += 1\n",
    "    return a"
   ]
  },
  {
   "cell_type": "code",
   "execution_count": 41,
   "metadata": {},
   "outputs": [],
   "source": [
    "def train(iterations):\n",
    "    actionUtility = [0] * NUM_ACTIONS\n",
    "    for _ in range(iterations):\n",
    "        myStrategy = getStrategy()\n",
    "        myAction = getAction(myStrategy)\n",
    "        otherAction = getAction(oppStrategy)\n",
    "\n",
    "        actionUtility[otherAction] = 0\n",
    "        if otherAction == 0:\n",
    "            actionUtility[1] = 1\n",
    "            actionUtility[2] = -1\n",
    "        elif otherAction == 1:\n",
    "            actionUtility[0] = -1\n",
    "            actionUtility[2] = 1\n",
    "        elif otherAction == 2:\n",
    "            actionUtility[0] = 1\n",
    "            actionUtility[1] = -1\n",
    "\n",
    "        for a in range(NUM_ACTIONS):\n",
    "            regretSum[a] += actionUtility[a] - actionUtility[myAction]"
   ]
  },
  {
   "cell_type": "code",
   "execution_count": 42,
   "metadata": {},
   "outputs": [],
   "source": [
    "def getAverageStrategy():\n",
    "    avgStrategy = [0] * NUM_ACTIONS\n",
    "    normalizingSum = 0\n",
    "    for a in range(NUM_ACTIONS):\n",
    "        normalizingSum += strategySum[a]\n",
    "    for a in range(NUM_ACTIONS):\n",
    "        if normalizingSum > 0:\n",
    "            avgStrategy[a] = strategySum[a]/normalizingSum\n",
    "        else:\n",
    "            avgStrategy[a] = 1/NUM_ACTIONS\n",
    "    return avgStrategy"
   ]
  },
  {
   "cell_type": "code",
   "execution_count": 53,
   "metadata": {},
   "outputs": [],
   "source": [
    "train(1000)"
   ]
  },
  {
   "cell_type": "code",
   "execution_count": 54,
   "metadata": {},
   "outputs": [
    {
     "data": {
      "text/plain": [
       "[0.0003333333333333333, 0.0021666666666666666, 0.9975]"
      ]
     },
     "execution_count": 54,
     "metadata": {},
     "output_type": "execute_result"
    }
   ],
   "source": [
    "getAverageStrategy()"
   ]
  },
  {
   "cell_type": "code",
   "execution_count": 55,
   "metadata": {},
   "outputs": [],
   "source": [
    "actionUtility = [0] * NUM_ACTIONS"
   ]
  },
  {
   "cell_type": "code",
   "execution_count": null,
   "metadata": {},
   "outputs": [],
   "source": [
    "myStrategy = getStrategy()\n",
    "myAction = getAction(myStrategy)\n",
    "otherAction = getAction(oppStrategy)\n",
    "\n",
    "actionUtility[otherAction] = 0\n",
    "if otherAction == 0:\n",
    "    actionUtility[1] = 1\n",
    "    actionUtility[2] = -1\n",
    "elif otherAction == 1:\n",
    "    actionUtility[0] = -1\n",
    "    actionUtility[2] = 1\n",
    "elif otherAction == 2:\n",
    "    actionUtility[0] = 1\n",
    "    actionUtility[1] = -2\n",
    "\n",
    "for a in range(NUM_ACTIONS):\n",
    "    regretSum[a] += actionUtility[a] - actionUtility[myAction]"
   ]
  }
 ],
 "metadata": {
  "kernelspec": {
   "display_name": "Python 3",
   "language": "python",
   "name": "python3"
  },
  "language_info": {
   "codemirror_mode": {
    "name": "ipython",
    "version": 3
   },
   "file_extension": ".py",
   "mimetype": "text/x-python",
   "name": "python",
   "nbconvert_exporter": "python",
   "pygments_lexer": "ipython3",
   "version": "3.6.4"
  }
 },
 "nbformat": 4,
 "nbformat_minor": 2
}
